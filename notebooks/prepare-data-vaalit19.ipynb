{
 "cells": [
  {
   "attachments": {},
   "cell_type": "markdown",
   "metadata": {},
   "source": [
    "# Data preparation script for Avoin_data_eduskuntavaalit_2019_valintatiedot\n",
    "\n",
    "This script prepares the YLE 2019 election compass data for clustercards generation."
   ]
  },
  {
   "cell_type": "code",
   "execution_count": null,
   "metadata": {},
   "outputs": [],
   "source": [
    "%matplotlib inline\n",
    "\n",
    "import numpy as np\n",
    "import pandas as pd\n",
    "pd.set_option('display.max_columns', None)\n",
    "\n",
    "from datetime import datetime\n",
    "from collections import defaultdict\n",
    "import os\n",
    "\n",
    "import matplotlib as mpl\n",
    "import matplotlib.pyplot as plt\n",
    "import seaborn as sns\n",
    "sns.set()\n",
    "\n",
    "from yamlconfig import read_config"
   ]
  },
  {
   "cell_type": "markdown",
   "metadata": {},
   "source": [
    "## Read and define variables"
   ]
  },
  {
   "cell_type": "code",
   "execution_count": null,
   "metadata": {},
   "outputs": [],
   "source": [
    "config = read_config()\n",
    "c = config['vaalit19']\n",
    "print('Settings:')\n",
    "print(c)"
   ]
  },
  {
   "cell_type": "code",
   "execution_count": null,
   "metadata": {},
   "outputs": [],
   "source": [
    "DATADIR = c['datadir']\n",
    "DATAFILE = c['datafile']\n",
    "METAFILE = c['metafile']\n",
    "OUTPREFIX = c['outprefix']\n",
    "FILTER_REGION = c['filter_region']\n",
    "\n",
    "INDEX_COL = None\n",
    "CSV_SEP = ','\n",
    "NAN_LIMIT = 0.1"
   ]
  },
  {
   "cell_type": "code",
   "execution_count": null,
   "metadata": {},
   "outputs": [],
   "source": [
    "datafilename = \"{}/{}\".format(DATADIR, DATAFILE)\n",
    "metafilename = \"{}/{}\".format(DATADIR, METAFILE)\n",
    "assert os.path.isfile(datafilename), \"File missing\"\n",
    "#assert os.path.isfile(metafilename), \"File missing\""
   ]
  },
  {
   "cell_type": "markdown",
   "metadata": {},
   "source": [
    "## Read data\n",
    "\n",
    "### Metadata for variables"
   ]
  },
  {
   "cell_type": "code",
   "execution_count": null,
   "metadata": {},
   "outputs": [],
   "source": [
    "df_vars = pd.read_excel(metafilename, index_col=0)\n",
    "background = df_vars.loc['Taustamuuttuja']>0\n",
    "background = background[background].index.values"
   ]
  },
  {
   "cell_type": "code",
   "execution_count": null,
   "metadata": {},
   "outputs": [],
   "source": [
    "len(df_vars.columns)"
   ]
  },
  {
   "attachments": {},
   "cell_type": "markdown",
   "metadata": {},
   "source": [
    "### Actual data variables"
   ]
  },
  {
   "cell_type": "code",
   "execution_count": null,
   "metadata": {},
   "outputs": [],
   "source": [
    "df = pd.read_csv(datafilename, sep=CSV_SEP, index_col=INDEX_COL)\n",
    "df"
   ]
  },
  {
   "attachments": {},
   "cell_type": "markdown",
   "metadata": {},
   "source": [
    "## Process data\n",
    "\n",
    "### Drop variables"
   ]
  },
  {
   "cell_type": "code",
   "execution_count": null,
   "metadata": {},
   "outputs": [],
   "source": [
    "df2 = df.drop(df.columns[32:61], axis=1)\n",
    "df2 = df2.drop(df2.columns[33:36], axis=1)\n",
    "df2 = df2.drop(df2.columns[41:180], axis=1)"
   ]
  },
  {
   "cell_type": "code",
   "execution_count": null,
   "metadata": {},
   "outputs": [],
   "source": [
    "df2.info(verbose=True)"
   ]
  },
  {
   "attachments": {},
   "cell_type": "markdown",
   "metadata": {},
   "source": [
    "### Convert to floats"
   ]
  },
  {
   "cell_type": "code",
   "execution_count": null,
   "metadata": {},
   "outputs": [],
   "source": [
    "df2['Kuinka vanha olet?'] = df2['Kuinka vanha olet?'].str.replace(\"v\", \"\")\n",
    "df2['Kuinka vanha olet?'] = df2['Kuinka vanha olet?'].str.replace(\"+\", \"\", regex=False)\n",
    "df2['Kuinka vanha olet?'] = df2['Kuinka vanha olet?'].str.replace(\"ä\", \"\")\n",
    "df2['Kuinka vanha olet?'] = df2['Kuinka vanha olet?'].str.replace(\"p\", \"\")"
   ]
  },
  {
   "cell_type": "code",
   "execution_count": null,
   "metadata": {},
   "outputs": [],
   "source": [
    "df2 = df2.replace('-',np.NaN)\n",
    "df2 = df2.replace('NaN',np.NaN)\n",
    "df2 = df2.replace('  ',np.NaN)\n",
    "df2 = df2.replace('---',np.NaN)"
   ]
  },
  {
   "cell_type": "code",
   "execution_count": null,
   "metadata": {},
   "outputs": [],
   "source": [
    "for i, c in enumerate(df2.columns):\n",
    "    print(i, c)\n",
    "    if i>2 and i<33: df2[c] = df2[c].astype(float)"
   ]
  },
  {
   "attachments": {},
   "cell_type": "markdown",
   "metadata": {},
   "source": [
    "### NaNs\n",
    "\n",
    "#### Drop candidates"
   ]
  },
  {
   "cell_type": "code",
   "execution_count": null,
   "metadata": {},
   "outputs": [],
   "source": [
    "df2 = df2.dropna(axis=0, thresh=36)\n",
    "df2.isna().sum(axis = 1).sort_values()"
   ]
  },
  {
   "attachments": {},
   "cell_type": "markdown",
   "metadata": {},
   "source": [
    "#### Drop variables"
   ]
  },
  {
   "cell_type": "code",
   "execution_count": null,
   "metadata": {},
   "outputs": [],
   "source": [
    "ser_nans = df2.isnull().sum()\n",
    "ser_too_many_nans = ser_nans[ser_nans>NAN_LIMIT*len(df2)]\n",
    "too_many_nans = list(ser_too_many_nans.index.values)\n",
    "print('Removing variables with more than {} NaNs:'.format(NAN_LIMIT*len(df2)))\n",
    "print(ser_too_many_nans)\n",
    "print()\n",
    "df2 = df2.drop(ser_too_many_nans.index, axis=1)\n",
    "df2.info(verbose=False)"
   ]
  },
  {
   "cell_type": "code",
   "execution_count": null,
   "metadata": {},
   "outputs": [],
   "source": [
    "df2.isnull().sum().sort_values(ascending=False).plot()"
   ]
  },
  {
   "cell_type": "code",
   "execution_count": null,
   "metadata": {},
   "outputs": [],
   "source": [
    "if 1: \n",
    "    ser_mode = df2.mode().transpose().squeeze()\n",
    "    ser_mean = df2.mean()\n",
    "\n",
    "    for c in ['vaalipiiri', 'puolue']: \n",
    "        df2[c].fillna(ser_mode[c], inplace=True)\n",
    "\n",
    "    df2['Sukupuolesi'].fillna('En halua kertoa', inplace=True)\n",
    "\n",
    "    for c in df2.columns:\n",
    "        if c in ser_mean:\n",
    "            df2[c].fillna(ser_mean[c], inplace=True)"
   ]
  },
  {
   "cell_type": "code",
   "execution_count": null,
   "metadata": {},
   "outputs": [],
   "source": [
    "df2.isna().sum(axis = 0).sort_values()"
   ]
  },
  {
   "cell_type": "code",
   "execution_count": null,
   "metadata": {},
   "outputs": [],
   "source": [
    "df2.Sukupuolesi.unique()"
   ]
  },
  {
   "attachments": {},
   "cell_type": "markdown",
   "metadata": {},
   "source": [
    "### party variables"
   ]
  },
  {
   "cell_type": "code",
   "execution_count": null,
   "metadata": {},
   "outputs": [],
   "source": [
    "for p in df2['puolue'].unique():\n",
    "    df2[p] = (df2['puolue']==p).astype(int)"
   ]
  },
  {
   "attachments": {},
   "cell_type": "markdown",
   "metadata": {},
   "source": [
    "#### replace column names"
   ]
  },
  {
   "cell_type": "code",
   "execution_count": null,
   "metadata": {},
   "outputs": [],
   "source": [
    "assert len(df2.columns) == len(df_vars.columns)\n",
    "df2.columns = df_vars.columns\n",
    "df2"
   ]
  },
  {
   "cell_type": "markdown",
   "metadata": {},
   "source": [
    "### Background variables"
   ]
  },
  {
   "cell_type": "code",
   "execution_count": null,
   "metadata": {},
   "outputs": [],
   "source": [
    "df_bg = df2[background]\n",
    "df2 = df2.drop(background, axis=1)\n",
    "print(len(background), 'background variables removed:', background)\n",
    "print('Actual data has', len(df2), 'rows,', len(df2.columns), 'columns')\n",
    "print('Background data has', len(df_bg), 'rows,', len(df_bg.columns), 'columns')"
   ]
  },
  {
   "attachments": {},
   "cell_type": "markdown",
   "metadata": {},
   "source": [
    "## save results"
   ]
  },
  {
   "cell_type": "code",
   "execution_count": null,
   "metadata": {},
   "outputs": [],
   "source": [
    "now = datetime.now()\n",
    "todaystr = now.strftime(\"%Y-%m-%d\")\n",
    "outfile = \"{}/{}-data-{}.csv\".format(DATADIR, OUTPREFIX, todaystr)\n",
    "print(outfile)\n",
    "df2.to_csv(outfile, index=False)"
   ]
  },
  {
   "cell_type": "code",
   "execution_count": null,
   "metadata": {},
   "outputs": [],
   "source": [
    "now = datetime.now()\n",
    "todaystr = now.strftime(\"%Y-%m-%d\")\n",
    "outfile = \"{}/{}-bg-{}.csv\".format(DATADIR, OUTPREFIX, todaystr)\n",
    "print(outfile)\n",
    "df_bg.to_csv(outfile, index=False)"
   ]
  },
  {
   "cell_type": "code",
   "execution_count": null,
   "metadata": {},
   "outputs": [],
   "source": [
    "df_bg"
   ]
  },
  {
   "cell_type": "code",
   "execution_count": null,
   "metadata": {},
   "outputs": [],
   "source": []
  }
 ],
 "metadata": {
  "kernelspec": {
   "display_name": "Python 3",
   "language": "python",
   "name": "python3"
  },
  "language_info": {
   "codemirror_mode": {
    "name": "ipython",
    "version": 3
   },
   "file_extension": ".py",
   "mimetype": "text/x-python",
   "name": "python",
   "nbconvert_exporter": "python",
   "pygments_lexer": "ipython3",
   "version": "3.9.16"
  },
  "orig_nbformat": 4,
  "vscode": {
   "interpreter": {
    "hash": "f22a20af907fde35ff19e1e892fdb271353fb19b11c7ebd774491472e685293c"
   }
  }
 },
 "nbformat": 4,
 "nbformat_minor": 2
}
