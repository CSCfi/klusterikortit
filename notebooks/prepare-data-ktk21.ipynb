{
 "cells": [
  {
   "attachments": {},
   "cell_type": "markdown",
   "metadata": {},
   "source": [
    "![AuroraAI](images/auroraai-small.png)\n",
    "\n",
    "# Data preparation script for AuroraAI kouluterveyskysely 2021 data\n",
    "\n",
    "This script prepares the 2021 kouluterveyskysely data for clustercards generation."
   ]
  },
  {
   "cell_type": "code",
   "execution_count": null,
   "metadata": {},
   "outputs": [],
   "source": [
    "%matplotlib inline\n",
    "\n",
    "import numpy as np\n",
    "import pandas as pd\n",
    "pd.set_option('display.max_columns', None)\n",
    "\n",
    "from datetime import datetime\n",
    "from collections import defaultdict\n",
    "import os\n",
    "\n",
    "import matplotlib as mpl\n",
    "import matplotlib.pyplot as plt\n",
    "import seaborn as sns\n",
    "sns.set()\n",
    "\n",
    "from yamlconfig import read_config"
   ]
  },
  {
   "attachments": {},
   "cell_type": "markdown",
   "metadata": {},
   "source": [
    "## Read and define variables"
   ]
  },
  {
   "cell_type": "code",
   "execution_count": null,
   "metadata": {},
   "outputs": [],
   "source": [
    "config = read_config()\n",
    "c = config['ktk21']\n",
    "print('Settings:')\n",
    "print(c)"
   ]
  },
  {
   "cell_type": "code",
   "execution_count": null,
   "metadata": {},
   "outputs": [],
   "source": [
    "DATADIR = c['datadir']\n",
    "DATAFILE = c['datafile']\n",
    "METAFILE = c['metafile']\n",
    "OUTPREFIX = c['outprefix']\n",
    "FILTER_YEAR = c['filter_year']\n",
    "FILTER_MUNICIPALITY = c['filter_municipality']\n",
    "\n",
    "INDEX_COL = None\n",
    "CSV_SEP = ';'\n",
    "NAN_LIMIT = 0.25"
   ]
  },
  {
   "cell_type": "code",
   "execution_count": null,
   "metadata": {},
   "outputs": [],
   "source": [
    "datafilename = \"{}/{}\".format(DATADIR, DATAFILE)\n",
    "metafilename = \"{}/{}\".format(DATADIR, METAFILE)\n",
    "assert os.path.isfile(datafilename), \"File missing\"\n",
    "assert os.path.isfile(metafilename), \"File missing\""
   ]
  },
  {
   "cell_type": "markdown",
   "metadata": {},
   "source": [
    "## Read data\n",
    "\n",
    "### Read metadata for variables"
   ]
  },
  {
   "cell_type": "code",
   "execution_count": null,
   "metadata": {},
   "outputs": [],
   "source": [
    "df_labels = pd.read_excel(metafilename, index_col=\"Muuttuja\")\n",
    "df_labels.replace(np.nan, '0', inplace=True)\n",
    "for c in df_labels.columns:\n",
    "    if c in [\"Lyhyt kuvaus\", \"Kuvaus\", \"Kommentit\"]: continue\n",
    "    df_labels[c] = df_labels[c].astype(int)\n",
    "df_labels.info()\n",
    "df_labels.sample(5)"
   ]
  },
  {
   "attachments": {},
   "cell_type": "markdown",
   "metadata": {},
   "source": [
    "#### Background variables\n",
    "\n",
    "The following variables will not be included in the clustering or any other analysis:"
   ]
  },
  {
   "cell_type": "code",
   "execution_count": null,
   "metadata": {},
   "outputs": [],
   "source": [
    "background = df_labels['Taustamuuttuja']>0\n",
    "background = list(background[background].index.values)\n",
    "print(background, len(background))"
   ]
  },
  {
   "attachments": {},
   "cell_type": "markdown",
   "metadata": {},
   "source": [
    "#### Variables to be inverted\n",
    "\n",
    "The values of the following variables will be inverted:"
   ]
  },
  {
   "cell_type": "code",
   "execution_count": null,
   "metadata": {},
   "outputs": [],
   "source": [
    "invert = []\n",
    "if 'Kääntö' in df_labels:\n",
    "    invert =  df_labels['Kääntö']>0\n",
    "    invert = list(invert[invert].index.values)    \n",
    "print(invert)"
   ]
  },
  {
   "cell_type": "markdown",
   "metadata": {},
   "source": [
    "### Read actual data from CSV"
   ]
  },
  {
   "cell_type": "code",
   "execution_count": null,
   "metadata": {},
   "outputs": [],
   "source": [
    "df = pd.read_csv(datafilename, sep=CSV_SEP, index_col=INDEX_COL, dtype=float, na_values=\" \")\n",
    "df.info()\n",
    "df.sample(5)"
   ]
  },
  {
   "cell_type": "code",
   "execution_count": null,
   "metadata": {},
   "outputs": [],
   "source": [
    "df.describe()"
   ]
  },
  {
   "cell_type": "code",
   "execution_count": null,
   "metadata": {},
   "outputs": [],
   "source": [
    "len(df.columns)"
   ]
  },
  {
   "cell_type": "code",
   "execution_count": null,
   "metadata": {},
   "outputs": [],
   "source": [
    "def plot_hist(var):\n",
    "    counts = df[var].value_counts(dropna=False)\n",
    "    counts.plot.bar(title=var, grid=True);"
   ]
  },
  {
   "cell_type": "code",
   "execution_count": null,
   "metadata": {},
   "outputs": [],
   "source": [
    "plot_hist('vuosi')"
   ]
  },
  {
   "cell_type": "code",
   "execution_count": null,
   "metadata": {
    "tags": []
   },
   "outputs": [],
   "source": [
    "plot_hist('kunta_koodi_tku_jkl')"
   ]
  },
  {
   "cell_type": "code",
   "execution_count": null,
   "metadata": {},
   "outputs": [],
   "source": [
    "plot_hist('ind_familyeconomic')"
   ]
  },
  {
   "cell_type": "code",
   "execution_count": null,
   "metadata": {},
   "outputs": [],
   "source": [
    "plot_hist('sukupuoli')"
   ]
  },
  {
   "cell_type": "code",
   "execution_count": null,
   "metadata": {},
   "outputs": [],
   "source": [
    "df['sukupuoli'].value_counts()"
   ]
  },
  {
   "cell_type": "markdown",
   "metadata": {},
   "source": [
    "## Process data"
   ]
  },
  {
   "cell_type": "markdown",
   "metadata": {},
   "source": [
    "### NaNs"
   ]
  },
  {
   "cell_type": "code",
   "execution_count": null,
   "metadata": {},
   "outputs": [],
   "source": [
    "ser_nans = df.isnull().sum()\n",
    "ser_too_many_nans = ser_nans[ser_nans>NAN_LIMIT*len(df)]\n",
    "too_many_nans = list(ser_too_many_nans.index.values)\n",
    "print('Removing variables with more than {} NaNs:'.format(NAN_LIMIT*len(df)))\n",
    "print(ser_too_many_nans)\n",
    "print()\n",
    "df = df.drop(ser_too_many_nans.index, axis=1)\n",
    "df.info(verbose=False)"
   ]
  },
  {
   "cell_type": "code",
   "execution_count": null,
   "metadata": {},
   "outputs": [],
   "source": [
    "df.isnull().sum().sort_values(ascending=False).plot()"
   ]
  },
  {
   "cell_type": "code",
   "execution_count": null,
   "metadata": {},
   "outputs": [],
   "source": [
    "if 1: \n",
    "    df_mode = df.mode().transpose().squeeze()\n",
    "    df_mean = df.mean()\n",
    "\n",
    "    for c in ['luokka', 'sukupuoli']: \n",
    "        df[c].fillna(df_mode[c], inplace=True)\n",
    "\n",
    "    for c in df.columns: \n",
    "        df[c].fillna(df_mean[c], inplace=True)"
   ]
  },
  {
   "cell_type": "code",
   "execution_count": null,
   "metadata": {},
   "outputs": [],
   "source": [
    "if 0:\n",
    "    from sklearn.preprocessing import StandardScaler, MinMaxScaler\n",
    "    from sklearn.impute import KNNImputer\n",
    "\n",
    "    scaler = StandardScaler()\n",
    "    df_sc = pd.DataFrame(scaler.fit_transform(df), columns = df.columns)\n",
    "\n",
    "    imputer = KNNImputer(n_neighbors=3)\n",
    "    df_imp = pd.DataFrame(imputer.fit_transform(df_sc),columns = df.columns)"
   ]
  },
  {
   "cell_type": "code",
   "execution_count": null,
   "metadata": {},
   "outputs": [],
   "source": [
    "df"
   ]
  },
  {
   "cell_type": "code",
   "execution_count": null,
   "metadata": {},
   "outputs": [],
   "source": [
    "assert not df.isnull().sum().sum(), \"NaNs exist\""
   ]
  },
  {
   "cell_type": "markdown",
   "metadata": {},
   "source": [
    "### Invert variables"
   ]
  },
  {
   "cell_type": "code",
   "execution_count": null,
   "metadata": {},
   "outputs": [],
   "source": [
    "for iv in invert:\n",
    "    print('Inverting variable:', iv)\n",
    "    df[iv] = df[iv].max() - df[iv] "
   ]
  },
  {
   "cell_type": "markdown",
   "metadata": {},
   "source": [
    "### Filter rows"
   ]
  },
  {
   "cell_type": "code",
   "execution_count": null,
   "metadata": {},
   "outputs": [],
   "source": [
    "if FILTER_YEAR is not None:\n",
    "    print('Filtering data with FILTER_YEAR={}'.format(FILTER_YEAR))\n",
    "    vuosi_int = df['vuosi'].astype(int)\n",
    "    assert FILTER_YEAR in vuosi_int.values, \"FILTER_YEAR={} not found\".format(FILTER_YEAR)\n",
    "    df = df[vuosi_int == FILTER_YEAR]\n",
    "    df.info()\n",
    "    display(df.sample(5))"
   ]
  },
  {
   "cell_type": "code",
   "execution_count": null,
   "metadata": {},
   "outputs": [],
   "source": [
    "if FILTER_MUNICIPALITY is not None:\n",
    "    print('Filtering data with FILTER_MUNICIPALITY={}'.format(FILTER_MUNICIPALITY))\n",
    "    kuntakoodi_int = df['kunta_koodi_tku_jkl'].astype(int)\n",
    "    assert FILTER_MUNICIPALITY in kuntakoodi_int.values, \"FILTER_MUNICIPALITY={} not found\".format(FILTER_MUNICIPALITY)\n",
    "    df = df[kuntakoodi_int == FILTER_MUNICIPALITY]\n",
    "    df.info()\n",
    "    df.sample(5)"
   ]
  },
  {
   "cell_type": "markdown",
   "metadata": {},
   "source": [
    "### Background variables"
   ]
  },
  {
   "cell_type": "code",
   "execution_count": null,
   "metadata": {},
   "outputs": [],
   "source": [
    "for v in too_many_nans:\n",
    "    if v in background:\n",
    "        print('Removing', v, 'from background variables')\n",
    "        background.remove(v)\n",
    "print(background)"
   ]
  },
  {
   "cell_type": "code",
   "execution_count": null,
   "metadata": {},
   "outputs": [],
   "source": []
  },
  {
   "cell_type": "code",
   "execution_count": null,
   "metadata": {},
   "outputs": [],
   "source": [
    "df_bg = df[background]\n",
    "df = df.drop(background, axis=1)\n",
    "print(len(background), 'background variables removed:', background)\n",
    "print('Actual data has', len(df), 'rows,', len(df.columns), 'columns')\n",
    "print('Background data has', len(df_bg), 'rows,', len(df_bg.columns), 'columns')"
   ]
  },
  {
   "cell_type": "markdown",
   "metadata": {},
   "source": [
    "## Save data as a CSV file"
   ]
  },
  {
   "cell_type": "code",
   "execution_count": null,
   "metadata": {},
   "outputs": [],
   "source": [
    "now = datetime.now()\n",
    "todaystr = now.strftime(\"%Y-%m-%d\")\n",
    "outfile = \"{}/{}-data-{}.csv\".format(DATADIR, OUTPREFIX, todaystr)\n",
    "print(outfile)\n",
    "df.to_csv(outfile, index=False)"
   ]
  },
  {
   "cell_type": "code",
   "execution_count": null,
   "metadata": {},
   "outputs": [],
   "source": [
    "now = datetime.now()\n",
    "todaystr = now.strftime(\"%Y-%m-%d\")\n",
    "outfile = \"{}/{}-bg-{}.csv\".format(DATADIR, OUTPREFIX, todaystr)\n",
    "print(outfile)\n",
    "df_bg.to_csv(outfile, index=False)"
   ]
  },
  {
   "cell_type": "code",
   "execution_count": null,
   "metadata": {},
   "outputs": [],
   "source": []
  }
 ],
 "metadata": {
  "kernelspec": {
   "display_name": "Python 3.9.13 64-bit",
   "language": "python",
   "name": "python3"
  },
  "language_info": {
   "codemirror_mode": {
    "name": "ipython",
    "version": 3
   },
   "file_extension": ".py",
   "mimetype": "text/x-python",
   "name": "python",
   "nbconvert_exporter": "python",
   "pygments_lexer": "ipython3",
   "version": "3.9.16"
  },
  "vscode": {
   "interpreter": {
    "hash": "f22a20af907fde35ff19e1e892fdb271353fb19b11c7ebd774491472e685293c"
   }
  }
 },
 "nbformat": 4,
 "nbformat_minor": 4
}
