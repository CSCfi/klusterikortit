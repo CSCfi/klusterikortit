{
 "cells": [
  {
   "attachments": {},
   "cell_type": "markdown",
   "id": "fd7ee8df-ac4f-4583-94f4-29d2ff20b9ed",
   "metadata": {},
   "source": [
    "![AuroraAI](images/auroraai-small.png)\n",
    "\n",
    "# Data preparation script for marketing campaign data\n",
    "\n",
    "This script prepares the marketing campaign data for clustercards generation."
   ]
  },
  {
   "cell_type": "code",
   "execution_count": null,
   "id": "2c31a2fc-a88a-4c41-8d90-77e9993182fb",
   "metadata": {},
   "outputs": [],
   "source": [
    "%matplotlib inline\n",
    "\n",
    "import os\n",
    "\n",
    "import numpy as np\n",
    "import pandas as pd\n",
    "pd.set_option('display.max_columns', None)\n",
    "\n",
    "from datetime import datetime\n",
    "from collections import defaultdict\n",
    "\n",
    "import matplotlib as mpl\n",
    "import matplotlib.pyplot as plt\n",
    "import seaborn as sns\n",
    "sns.set()\n",
    "\n",
    "from yamlconfig import read_config"
   ]
  },
  {
   "attachments": {},
   "cell_type": "markdown",
   "id": "faaf6554",
   "metadata": {},
   "source": [
    "## Read and define variables"
   ]
  },
  {
   "cell_type": "code",
   "execution_count": null,
   "id": "be98afa5",
   "metadata": {},
   "outputs": [],
   "source": [
    "config = read_config()\n",
    "c = config['mc']\n",
    "print('Settings:')\n",
    "print(c)"
   ]
  },
  {
   "cell_type": "code",
   "execution_count": null,
   "id": "66d130a1-c05c-4a1e-aa53-f03089cd2735",
   "metadata": {},
   "outputs": [],
   "source": [
    "DATADIR = c['datadir']\n",
    "DATAFILE = c['datafile']\n",
    "METAFILE = c['metafile']\n",
    "\n",
    "INDEX_COL = 0\n",
    "#CSV_SEP = '\\t'\n",
    "CSV_SEP = ';'"
   ]
  },
  {
   "cell_type": "code",
   "execution_count": null,
   "id": "bb9f7bf8-3855-43ba-ac45-4b8627913c7f",
   "metadata": {},
   "outputs": [],
   "source": [
    "datafilename = \"{}/{}\".format(DATADIR, DATAFILE)\n",
    "metafilename = \"{}/{}\".format(DATADIR, METAFILE)\n",
    "assert os.path.isfile(datafilename), \"File missing\"\n",
    "assert os.path.isfile(metafilename), \"File missing\""
   ]
  },
  {
   "attachments": {},
   "cell_type": "markdown",
   "id": "69bb2592-fd41-4d2f-b3b7-bfc89da732b6",
   "metadata": {},
   "source": [
    "## Read data\n",
    "\n",
    "### Metadata for variables"
   ]
  },
  {
   "cell_type": "code",
   "execution_count": null,
   "id": "19eafa87-9752-488b-8d87-bc7416283d01",
   "metadata": {},
   "outputs": [],
   "source": [
    "df_vars = pd.read_excel(metafilename, index_col=0)\n",
    "background = df_vars.loc['Taustamuuttuja']>0\n",
    "background = background[background].index.values"
   ]
  },
  {
   "cell_type": "markdown",
   "id": "171162a9-a515-4c53-b68d-489e278c2e3c",
   "metadata": {},
   "source": [
    "### Actual data variables"
   ]
  },
  {
   "cell_type": "code",
   "execution_count": null,
   "id": "39150904-fd48-407e-8b0f-0485e4392bec",
   "metadata": {},
   "outputs": [],
   "source": [
    "df = pd.read_csv(datafilename, sep=CSV_SEP, index_col=INDEX_COL)\n",
    "df"
   ]
  },
  {
   "attachments": {},
   "cell_type": "markdown",
   "id": "3d36afef",
   "metadata": {},
   "source": [
    "## Process data\n",
    "\n",
    "### Combine variables"
   ]
  },
  {
   "cell_type": "code",
   "execution_count": null,
   "id": "11edb72e-c49b-49b0-afca-9e05cca34a4c",
   "metadata": {},
   "outputs": [],
   "source": [
    "print(df.Education.unique())\n",
    "df.Education.hist();"
   ]
  },
  {
   "cell_type": "code",
   "execution_count": null,
   "id": "c00f7b70-d9bf-488b-95f3-25bceba39d47",
   "metadata": {},
   "outputs": [],
   "source": [
    "#df.Dt_Customer = pd.to_datetime(df.Dt_Customer, format='%d-%m-%Y')\n",
    "df.Dt_Customer = pd.to_datetime(df.Dt_Customer, format='%Y-%m-%d')\n",
    "df['Age'] = 2022-df.Year_Birth\n",
    "df['Education_78'] = df.Education.isin(['PhD', 'Master', '2n Cycle']).astype(int)\n",
    "df['Married'] = df.Marital_Status.isin(['Together', 'Married']).astype(int)\n",
    "df"
   ]
  },
  {
   "cell_type": "code",
   "execution_count": null,
   "id": "714c2a00-8d5c-4edc-a537-085e9fe2aeb3",
   "metadata": {},
   "outputs": [],
   "source": [
    "df.Education_78.hist();"
   ]
  },
  {
   "attachments": {},
   "cell_type": "markdown",
   "id": "f6960280",
   "metadata": {},
   "source": [
    "### NaNs"
   ]
  },
  {
   "cell_type": "code",
   "execution_count": null,
   "id": "039bfe25-c28d-41ae-a81d-e962d5dc5111",
   "metadata": {},
   "outputs": [],
   "source": [
    "mean_income = df.Income.mean()\n",
    "df.Income = df.Income.fillna(mean_income)"
   ]
  },
  {
   "attachments": {},
   "cell_type": "markdown",
   "id": "3136018b-399c-43ff-8b8e-71d446cfe4ea",
   "metadata": {},
   "source": [
    "### Background variables"
   ]
  },
  {
   "cell_type": "code",
   "execution_count": null,
   "id": "847fe66c-9942-4f41-960e-b77425bb5dc2",
   "metadata": {},
   "outputs": [],
   "source": [
    "df_bg = df[background]\n",
    "df = df.drop(background, axis=1)\n",
    "print(len(background), 'background variables removed:', background)\n",
    "print('Data has', len(df), 'rows,', len(df.columns), 'columns')"
   ]
  },
  {
   "cell_type": "code",
   "execution_count": null,
   "id": "654312de-405f-435a-9738-b2ae2f501102",
   "metadata": {},
   "outputs": [],
   "source": [
    "assert df.isnull().sum().sum()==0, \"NULLs exists!\""
   ]
  },
  {
   "attachments": {},
   "cell_type": "markdown",
   "id": "86d9357f-83ea-494e-9280-dbac2c857d37",
   "metadata": {},
   "source": [
    "## Output\n",
    "\n",
    "Save actual and background datasets as CSV files."
   ]
  },
  {
   "cell_type": "code",
   "execution_count": null,
   "id": "4884d826",
   "metadata": {},
   "outputs": [],
   "source": [
    "now = datetime.now()\n",
    "todaystr = now.strftime(\"%Y-%m-%d\")"
   ]
  },
  {
   "cell_type": "code",
   "execution_count": null,
   "id": "0e5945ca-d6f0-425c-ab42-c3121918551d",
   "metadata": {},
   "outputs": [],
   "source": [
    "outfile = \"{}/mc-data-{}.csv\".format(DATADIR, todaystr)\n",
    "print(outfile)\n",
    "df.to_csv(outfile, index=False)"
   ]
  },
  {
   "cell_type": "code",
   "execution_count": null,
   "id": "f9a31ea9-0c1f-4975-87b5-4f18b039eab6",
   "metadata": {},
   "outputs": [],
   "source": [
    "outfile = \"{}/mc-bg-{}.csv\".format(DATADIR, todaystr)\n",
    "print(outfile)\n",
    "df_bg.to_csv(outfile, index=False)"
   ]
  }
 ],
 "metadata": {
  "kernelspec": {
   "display_name": "Python 3.9.13 64-bit",
   "language": "python",
   "name": "python3"
  },
  "language_info": {
   "codemirror_mode": {
    "name": "ipython",
    "version": 3
   },
   "file_extension": ".py",
   "mimetype": "text/x-python",
   "name": "python",
   "nbconvert_exporter": "python",
   "pygments_lexer": "ipython3",
   "version": "3.9.13"
  },
  "vscode": {
   "interpreter": {
    "hash": "f22a20af907fde35ff19e1e892fdb271353fb19b11c7ebd774491472e685293c"
   }
  }
 },
 "nbformat": 4,
 "nbformat_minor": 5
}
