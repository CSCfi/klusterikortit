{
 "cells": [
  {
   "cell_type": "markdown",
   "metadata": {},
   "source": [
    "![AuroraAI](images/auroraai-small.png)\n",
    "\n",
    "# Data preparation script for AuroraAI MunRipari data\n",
    "\n",
    "This script prepares the MunRipari data for clustercards generation."
   ]
  },
  {
   "cell_type": "code",
   "execution_count": null,
   "metadata": {},
   "outputs": [],
   "source": [
    "%matplotlib inline\n",
    "\n",
    "import numpy as np\n",
    "import pandas as pd\n",
    "pd.set_option('display.max_columns', None)\n",
    "\n",
    "from datetime import datetime\n",
    "from collections import defaultdict\n",
    "\n",
    "import matplotlib as mpl\n",
    "import matplotlib.pyplot as plt\n",
    "import seaborn as sns\n",
    "sns.set()\n",
    "\n",
    "from yamlconfig import read_config"
   ]
  },
  {
   "attachments": {},
   "cell_type": "markdown",
   "id": "faaf6554",
   "metadata": {},
   "source": [
    "## Read and define variables"
   ]
  },
  {
   "cell_type": "code",
   "execution_count": null,
   "id": "be98afa5",
   "metadata": {},
   "outputs": [],
   "source": [
    "config = read_config()\n",
    "c = config['munripari']\n",
    "print('Settings:')\n",
    "print(c)"
   ]
  },
  {
   "cell_type": "code",
   "execution_count": null,
   "metadata": {},
   "outputs": [],
   "source": [
    "DATADIR = c['datadir']\n",
    "DATAFILE = c['datafile']\n",
    "METAFILE = c['metafile']\n",
    "OUTPREFIX = c['outprefix']\n",
    "\n",
    "#INDEX_COL = None\n",
    "#CSV_SEP = ';'\n",
    "INDEX_COL = 0\n",
    "CSV_SEP = ','\n",
    "NAN_LIMIT = 0.25\n",
    "POINTSIZE = 5"
   ]
  },
  {
   "cell_type": "code",
   "execution_count": null,
   "metadata": {},
   "outputs": [],
   "source": [
    "datafilename = \"{}/{}\".format(DATADIR, DATAFILE)\n",
    "metafilename = \"{}/{}\".format(DATADIR, METAFILE)\n",
    "assert os.path.isfile(datafilename), \"File missing\"\n",
    "assert os.path.isfile(metafilename), \"File missing\""
   ]
  },
  {
   "cell_type": "markdown",
   "metadata": {},
   "source": [
    "## Read data\n",
    "\n",
    "### Read metadata for variables"
   ]
  },
  {
   "cell_type": "code",
   "execution_count": null,
   "metadata": {},
   "outputs": [],
   "source": [
    "df_labels = pd.read_excel(metafilename, index_col=\"Muuttuja\")\n",
    "df_labels.replace(np.nan, '0', inplace=True)\n",
    "for c in df_labels.columns:\n",
    "    if c == \"Kuvaus\": continue\n",
    "    df_labels[c] = df_labels[c].astype(int)\n",
    "df_labels.info()\n",
    "df_labels.sample(5)"
   ]
  },
  {
   "cell_type": "code",
   "execution_count": null,
   "metadata": {},
   "outputs": [],
   "source": [
    "background = df_labels['Taustamuuttuja']>0\n",
    "background = list(background[background].index.values)\n",
    "print(background)"
   ]
  },
  {
   "cell_type": "markdown",
   "metadata": {},
   "source": [
    "### Read actual data from CSV"
   ]
  },
  {
   "cell_type": "code",
   "execution_count": null,
   "metadata": {},
   "outputs": [],
   "source": [
    "df = pd.read_csv(datafilename, sep=CSV_SEP, index_col=INDEX_COL, na_values=\" \")\n",
    "df.info()\n",
    "df.sample(5)"
   ]
  },
  {
   "cell_type": "code",
   "execution_count": null,
   "metadata": {},
   "outputs": [],
   "source": [
    "df.describe()"
   ]
  },
  {
   "cell_type": "markdown",
   "metadata": {},
   "source": [
    "### Plot some variables"
   ]
  },
  {
   "cell_type": "code",
   "execution_count": null,
   "metadata": {},
   "outputs": [],
   "source": [
    "def plot_hist(var):\n",
    "    counts = df[var].value_counts(dropna=False)\n",
    "    counts.plot.bar(title=var, grid=True, rot=20);\n",
    "plot_hist('Yksikkö')"
   ]
  },
  {
   "cell_type": "code",
   "execution_count": null,
   "metadata": {},
   "outputs": [],
   "source": [
    "def plot_hist2(var, **kwargs):\n",
    "    counts = df[var].value_counts(dropna=False)\n",
    "    fig, ax = plt.subplots(1,1, figsize=(8,5))\n",
    "    ax.bar(range(len(counts)), counts)\n",
    "    ax.set_title(var)\n",
    "    ax.set_xticks(range(len(counts)))\n",
    "    ax.set_xticklabels(list(counts.index), **kwargs)\n",
    "    plt.savefig(\"{}.png\".format(var), bbox_inches='tight')\n",
    "plot_hist2('Yksikkö', rotation=45, ha='right', rotation_mode='anchor')"
   ]
  },
  {
   "cell_type": "code",
   "execution_count": null,
   "metadata": {},
   "outputs": [],
   "source": [
    "plot_hist2('Alue')"
   ]
  },
  {
   "cell_type": "markdown",
   "metadata": {},
   "source": [
    "## Process data"
   ]
  },
  {
   "cell_type": "markdown",
   "metadata": {},
   "source": [
    "### Filtering"
   ]
  },
  {
   "cell_type": "code",
   "execution_count": null,
   "metadata": {},
   "outputs": [],
   "source": [
    "pass"
   ]
  },
  {
   "cell_type": "markdown",
   "metadata": {},
   "source": [
    "#### NaNs"
   ]
  },
  {
   "cell_type": "code",
   "execution_count": null,
   "metadata": {},
   "outputs": [],
   "source": [
    "ser_nans = df.isnull().sum()\n",
    "ser_too_many_nans = ser_nans[ser_nans>NAN_LIMIT*len(df)]\n",
    "too_many_nans = list(ser_too_many_nans.index.values)\n",
    "print('Removing variables with more than {} NaNs:'.format(NAN_LIMIT*len(df)))\n",
    "print(ser_too_many_nans)\n",
    "print()\n",
    "df = df.drop(ser_too_many_nans.index, axis=1)\n",
    "df.info(verbose=False)"
   ]
  },
  {
   "cell_type": "code",
   "execution_count": null,
   "metadata": {},
   "outputs": [],
   "source": [
    "df"
   ]
  },
  {
   "cell_type": "markdown",
   "metadata": {},
   "source": [
    "### Background variables"
   ]
  },
  {
   "cell_type": "code",
   "execution_count": null,
   "metadata": {},
   "outputs": [],
   "source": [
    "for v in too_many_nans:\n",
    "    if v in background:\n",
    "        print('Removing', v, 'from background variables')\n",
    "        background.remove(v)\n",
    "print(background)"
   ]
  },
  {
   "cell_type": "code",
   "execution_count": null,
   "metadata": {},
   "outputs": [],
   "source": [
    "df_bg = df[background]\n",
    "df = df.drop(background, axis=1)\n",
    "print(len(background), 'background variables removed:', background)\n",
    "print('Actual data has', len(df), 'rows,', len(df.columns), 'columns')\n",
    "print('Background data has', len(df_bg), 'rows,', len(df_bg.columns), 'columns')"
   ]
  },
  {
   "cell_type": "markdown",
   "metadata": {},
   "source": [
    "## Save data as a CSV file"
   ]
  },
  {
   "cell_type": "code",
   "execution_count": null,
   "metadata": {},
   "outputs": [],
   "source": [
    "now = datetime.now()\n",
    "todaystr = now.strftime(\"%Y-%m-%d\")\n",
    "outfile = \"{}/{}-data-{}.csv\".format(DATADIR, OUTPREFIX, todaystr)\n",
    "print(outfile)\n",
    "df.to_csv(outfile, index=False)"
   ]
  },
  {
   "cell_type": "code",
   "execution_count": null,
   "metadata": {},
   "outputs": [],
   "source": [
    "now = datetime.now()\n",
    "todaystr = now.strftime(\"%Y-%m-%d\")\n",
    "outfile = \"{}/{}-bg-{}.csv\".format(DATADIR, OUTPREFIX, todaystr)\n",
    "print(outfile)\n",
    "df_bg.to_csv(outfile, index=False)"
   ]
  },
  {
   "cell_type": "code",
   "execution_count": null,
   "metadata": {},
   "outputs": [],
   "source": []
  }
 ],
 "metadata": {
  "kernelspec": {
   "display_name": "Python 3.9.13 64-bit",
   "language": "python",
   "name": "python3"
  },
  "language_info": {
   "codemirror_mode": {
    "name": "ipython",
    "version": 3
   },
   "file_extension": ".py",
   "mimetype": "text/x-python",
   "name": "python",
   "nbconvert_exporter": "python",
   "pygments_lexer": "ipython3",
   "version": "3.9.13 (main, May 21 2022, 02:36:14) \n[Clang 13.0.0 (clang-1300.0.29.30)]"
  },
  "vscode": {
   "interpreter": {
    "hash": "7a792fcb311f9eb9f3c1b942a8c87ada8484712b89b670347c16a1088e0a1f69"
   }
  }
 },
 "nbformat": 4,
 "nbformat_minor": 4
}
